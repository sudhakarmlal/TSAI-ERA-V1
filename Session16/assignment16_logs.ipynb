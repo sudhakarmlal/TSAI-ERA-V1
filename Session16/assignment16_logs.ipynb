{
 "cells": [
  {
   "cell_type": "code",
   "execution_count": 1,
   "id": "8b267cf7-58a8-443f-afe1-3c92410f1f8b",
   "metadata": {},
   "outputs": [],
   "source": [
    "import warnings\n",
    "import pytorch_lightning as pl\n",
    "\n",
    "from Lightning.datamodule import *\n",
    "from Lightning.TransformersLitModel import BilangLightning\n",
    "from config import get_config"
   ]
  },
  {
   "cell_type": "code",
   "execution_count": null,
   "id": "c9d99a46-1658-4363-b872-45c7bd6668df",
   "metadata": {},
   "outputs": [
    {
     "name": "stdout",
     "output_type": "stream",
     "text": [
      "Length of filtered dataset : 68604\n",
      "Train DS Size : 61743\n",
      "  Val DS Size : 6861\n",
      "Max length of source sentence: 45\n",
      "Max length of target sentence: 48\n",
      "Source Vocab Size : 30000\n",
      "Target Vocab Size : 30000\n"
     ]
    },
    {
     "name": "stderr",
     "output_type": "stream",
     "text": [
      "Using 16bit Automatic Mixed Precision (AMP)\n",
      "GPU available: True (cuda), used: True\n",
      "TPU available: False, using: 0 TPU cores\n",
      "IPU available: False, using: 0 IPUs\n",
      "HPU available: False, using: 0 HPUs\n",
      "You are using a CUDA device ('NVIDIA RTX A4000') that has Tensor Cores. To properly utilize them, you should set `torch.set_float32_matmul_precision('medium' | 'high')` which will trade-off precision for performance. For more details, read https://pytorch.org/docs/stable/generated/torch.set_float32_matmul_precision.html#torch.set_float32_matmul_precision\n",
      "LOCAL_RANK: 0 - CUDA_VISIBLE_DEVICES: [0]\n",
      "Loading `train_dataloader` to estimate number of stepping batches.\n",
      "\n",
      "  | Name            | Type             | Params\n",
      "-----------------------------------------------------\n",
      "0 | net             | Transformer      | 56.3 M\n",
      "1 | loss_fn         | CrossEntropyLoss | 0     \n",
      "2 | char_error_rate | CharErrorRate    | 0     \n",
      "3 | word_error_rate | WordErrorRate    | 0     \n",
      "4 | bleu_score      | BLEUScore        | 0     \n",
      "-----------------------------------------------------\n",
      "56.3 M    Trainable params\n",
      "0         Non-trainable params\n",
      "56.3 M    Total params\n",
      "225.350   Total estimated model params size (MB)\n"
     ]
    },
    {
     "data": {
      "application/vnd.jupyter.widget-view+json": {
       "model_id": "",
       "version_major": 2,
       "version_minor": 0
      },
      "text/plain": [
       "Sanity Checking: 0it [00:00, ?it/s]"
      ]
     },
     "metadata": {},
     "output_type": "display_data"
    },
    {
     "name": "stderr",
     "output_type": "stream",
     "text": [
      "/root/.local/lib/python3.9/site-packages/pytorch_lightning/trainer/connectors/data_connector.py:442: PossibleUserWarning: The dataloader, val_dataloader, does not have many workers which may be a bottleneck. Consider increasing the value of the `num_workers` argument` (try 8 which is the number of cpus on this machine) in the `DataLoader` init to improve performance.\n",
      "  rank_zero_warn(\n"
     ]
    },
    {
     "data": {
      "application/vnd.jupyter.widget-view+json": {
       "model_id": "dec2be92386b471fbb7c1eeffb2ed34b",
       "version_major": 2,
       "version_minor": 0
      },
      "text/plain": [
       "Training: 0it [00:00, ?it/s]"
      ]
     },
     "metadata": {},
     "output_type": "display_data"
    },
    {
     "data": {
      "application/vnd.jupyter.widget-view+json": {
       "model_id": "",
       "version_major": 2,
       "version_minor": 0
      },
      "text/plain": [
       "Validation: 0it [00:00, ?it/s]"
      ]
     },
     "metadata": {},
     "output_type": "display_data"
    },
    {
     "name": "stdout",
     "output_type": "stream",
     "text": [
      "Epoch 0 :\n",
      "----------------------------------------------------------------------\n",
      "SOURCE    := Après l’avoir renvoyée à l’entrée de la chapelle :\n",
      "EXPECTED  := After sending the woman to wait at the chapel door:\n",
      "PREDICTED := \" \" \" I the the the the the the the the the the the the the the the the the the the the the the the the the the the the the the the the the the the the the the the the the the the the the the the the the the the the the the the the the the the the the the the the the the the the the the the the the the the the the the the the the the the the the the the the the the the the the the the the the the the the the the the the the the the the the the the the the the the the the the the the the the the the the the the the the the the the the the the the the the the the the the the the the the the the the the the the the the the\n",
      "----------------------------------------------------------------------\n",
      "Validation CER  : 11.84313678741455\n",
      "Validation WER  : 15.699999809265137\n",
      "Validation BLEU : 0.0\n",
      "Training Loss   :  7.07722\n",
      "----------------------------------------------------------------------\n"
     ]
    },
    {
     "data": {
      "application/vnd.jupyter.widget-view+json": {
       "model_id": "",
       "version_major": 2,
       "version_minor": 0
      },
      "text/plain": [
       "Validation: 0it [00:00, ?it/s]"
      ]
     },
     "metadata": {},
     "output_type": "display_data"
    },
    {
     "name": "stdout",
     "output_type": "stream",
     "text": [
      "Epoch 1 :\n",
      "----------------------------------------------------------------------\n",
      "SOURCE    := Après l’avoir renvoyée à l’entrée de la chapelle :\n",
      "EXPECTED  := After sending the woman to wait at the chapel door:\n",
      "PREDICTED := The Duchessa was the Duchessa of the Duchessa , the Duchessa :\n",
      "----------------------------------------------------------------------\n",
      "Validation CER  : 0.9019607901573181\n",
      "Validation WER  : 1.0\n",
      "Validation BLEU : 0.0\n",
      "Training Loss   :  5.42004\n",
      "----------------------------------------------------------------------\n"
     ]
    },
    {
     "data": {
      "application/vnd.jupyter.widget-view+json": {
       "model_id": "",
       "version_major": 2,
       "version_minor": 0
      },
      "text/plain": [
       "Validation: 0it [00:00, ?it/s]"
      ]
     },
     "metadata": {},
     "output_type": "display_data"
    },
    {
     "name": "stdout",
     "output_type": "stream",
     "text": [
      "Epoch 2 :\n",
      "----------------------------------------------------------------------\n",
      "SOURCE    := Après l’avoir renvoyée à l’entrée de la chapelle :\n",
      "EXPECTED  := After sending the woman to wait at the chapel door:\n",
      "PREDICTED := After the Conte is the first of the Duchessa :\n",
      "----------------------------------------------------------------------\n",
      "Validation CER  : 0.6078431606292725\n",
      "Validation WER  : 0.800000011920929\n",
      "Validation BLEU : 0.0\n",
      "Training Loss   :  4.53986\n",
      "----------------------------------------------------------------------\n"
     ]
    },
    {
     "data": {
      "application/vnd.jupyter.widget-view+json": {
       "model_id": "",
       "version_major": 2,
       "version_minor": 0
      },
      "text/plain": [
       "Validation: 0it [00:00, ?it/s]"
      ]
     },
     "metadata": {},
     "output_type": "display_data"
    },
    {
     "name": "stdout",
     "output_type": "stream",
     "text": [
      "Epoch 3 :\n",
      "----------------------------------------------------------------------\n",
      "SOURCE    := Après l’avoir renvoyée à l’entrée de la chapelle :\n",
      "EXPECTED  := After sending the woman to wait at the chapel door:\n",
      "PREDICTED := After the window to the window :\n",
      "----------------------------------------------------------------------\n",
      "Validation CER  : 0.5490196347236633\n",
      "Validation WER  : 0.6000000238418579\n",
      "Validation BLEU : 0.0\n",
      "Training Loss   :  3.93778\n",
      "----------------------------------------------------------------------\n"
     ]
    },
    {
     "data": {
      "application/vnd.jupyter.widget-view+json": {
       "model_id": "",
       "version_major": 2,
       "version_minor": 0
      },
      "text/plain": [
       "Validation: 0it [00:00, ?it/s]"
      ]
     },
     "metadata": {},
     "output_type": "display_data"
    },
    {
     "name": "stdout",
     "output_type": "stream",
     "text": [
      "Epoch 4 :\n",
      "----------------------------------------------------------------------\n",
      "SOURCE    := Après l’avoir renvoyée à l’entrée de la chapelle :\n",
      "EXPECTED  := After sending the woman to wait at the chapel door:\n",
      "PREDICTED := After the of the Duchessa ' s ' écria :\n",
      "----------------------------------------------------------------------\n",
      "Validation CER  : 0.6666666865348816\n",
      "Validation WER  : 0.8999999761581421\n",
      "Validation BLEU : 0.0\n",
      "Training Loss   :  3.52118\n",
      "----------------------------------------------------------------------\n"
     ]
    },
    {
     "data": {
      "application/vnd.jupyter.widget-view+json": {
       "model_id": "",
       "version_major": 2,
       "version_minor": 0
      },
      "text/plain": [
       "Validation: 0it [00:00, ?it/s]"
      ]
     },
     "metadata": {},
     "output_type": "display_data"
    },
    {
     "name": "stdout",
     "output_type": "stream",
     "text": [
      "Epoch 5 :\n",
      "----------------------------------------------------------------------\n",
      "SOURCE    := Après l’avoir renvoyée à l’entrée de la chapelle :\n",
      "EXPECTED  := After sending the woman to wait at the chapel door:\n",
      "PREDICTED := After the of the chapel at the chapel of the chapel :\n",
      "----------------------------------------------------------------------\n",
      "Validation CER  : 0.5490196347236633\n",
      "Validation WER  : 0.800000011920929\n",
      "Validation BLEU : 0.0\n",
      "Training Loss   :  3.22072\n",
      "----------------------------------------------------------------------\n"
     ]
    },
    {
     "data": {
      "application/vnd.jupyter.widget-view+json": {
       "model_id": "",
       "version_major": 2,
       "version_minor": 0
      },
      "text/plain": [
       "Validation: 0it [00:00, ?it/s]"
      ]
     },
     "metadata": {},
     "output_type": "display_data"
    },
    {
     "name": "stdout",
     "output_type": "stream",
     "text": [
      "Epoch 6 :\n",
      "----------------------------------------------------------------------\n",
      "SOURCE    := Après l’avoir renvoyée à l’entrée de la chapelle :\n",
      "EXPECTED  := After sending the woman to wait at the chapel door:\n",
      "PREDICTED := After the at the chapel of the chapel :\n",
      "----------------------------------------------------------------------\n",
      "Validation CER  : 0.4901960790157318\n",
      "Validation WER  : 0.6000000238418579\n",
      "Validation BLEU : 0.0\n",
      "Training Loss   :  2.98957\n",
      "----------------------------------------------------------------------\n"
     ]
    },
    {
     "data": {
      "application/vnd.jupyter.widget-view+json": {
       "model_id": "",
       "version_major": 2,
       "version_minor": 0
      },
      "text/plain": [
       "Validation: 0it [00:00, ?it/s]"
      ]
     },
     "metadata": {},
     "output_type": "display_data"
    },
    {
     "name": "stdout",
     "output_type": "stream",
     "text": [
      "Epoch 7 :\n",
      "----------------------------------------------------------------------\n",
      "SOURCE    := Après l’avoir renvoyée à l’entrée de la chapelle :\n",
      "EXPECTED  := After sending the woman to wait at the chapel door:\n",
      "PREDICTED := After the at once to the marble chapel :\n",
      "----------------------------------------------------------------------\n",
      "Validation CER  : 0.529411792755127\n",
      "Validation WER  : 0.699999988079071\n",
      "Validation BLEU : 0.0\n",
      "Training Loss   :  2.80207\n",
      "----------------------------------------------------------------------\n"
     ]
    },
    {
     "data": {
      "application/vnd.jupyter.widget-view+json": {
       "model_id": "",
       "version_major": 2,
       "version_minor": 0
      },
      "text/plain": [
       "Validation: 0it [00:00, ?it/s]"
      ]
     },
     "metadata": {},
     "output_type": "display_data"
    },
    {
     "name": "stdout",
     "output_type": "stream",
     "text": [
      "Epoch 8 :\n",
      "----------------------------------------------------------------------\n",
      "SOURCE    := Après l’avoir renvoyée à l’entrée de la chapelle :\n",
      "EXPECTED  := After sending the woman to wait at the chapel door:\n",
      "PREDICTED := After the of the chapel :\n",
      "----------------------------------------------------------------------\n",
      "Validation CER  : 0.529411792755127\n",
      "Validation WER  : 0.6000000238418579\n",
      "Validation BLEU : 0.0\n",
      "Training Loss   :  2.57375\n",
      "----------------------------------------------------------------------\n"
     ]
    },
    {
     "data": {
      "application/vnd.jupyter.widget-view+json": {
       "model_id": "",
       "version_major": 2,
       "version_minor": 0
      },
      "text/plain": [
       "Validation: 0it [00:00, ?it/s]"
      ]
     },
     "metadata": {},
     "output_type": "display_data"
    },
    {
     "name": "stdout",
     "output_type": "stream",
     "text": [
      "Epoch 9 :\n",
      "----------------------------------------------------------------------\n",
      "SOURCE    := Après l’avoir renvoyée à l’entrée de la chapelle :\n",
      "EXPECTED  := After sending the woman to wait at the chapel door:\n",
      "PREDICTED := After the at the chapel , on the chapel :\n",
      "----------------------------------------------------------------------\n",
      "Validation CER  : 0.47058823704719543\n",
      "Validation WER  : 0.699999988079071\n",
      "Validation BLEU : 0.0\n",
      "Training Loss   :  2.36978\n",
      "----------------------------------------------------------------------\n"
     ]
    },
    {
     "data": {
      "application/vnd.jupyter.widget-view+json": {
       "model_id": "",
       "version_major": 2,
       "version_minor": 0
      },
      "text/plain": [
       "Validation: 0it [00:00, ?it/s]"
      ]
     },
     "metadata": {},
     "output_type": "display_data"
    },
    {
     "name": "stdout",
     "output_type": "stream",
     "text": [
      "Epoch 10 :\n",
      "----------------------------------------------------------------------\n",
      "SOURCE    := Après l’avoir renvoyée à l’entrée de la chapelle :\n",
      "EXPECTED  := After sending the woman to wait at the chapel door:\n",
      "PREDICTED := After the on the voit of the chapel .\n",
      "----------------------------------------------------------------------\n",
      "Validation CER  : 0.4313725531101227\n",
      "Validation WER  : 0.6000000238418579\n",
      "Validation BLEU : 0.0\n",
      "Training Loss   :  2.21251\n",
      "----------------------------------------------------------------------\n"
     ]
    },
    {
     "data": {
      "application/vnd.jupyter.widget-view+json": {
       "model_id": "",
       "version_major": 2,
       "version_minor": 0
      },
      "text/plain": [
       "Validation: 0it [00:00, ?it/s]"
      ]
     },
     "metadata": {},
     "output_type": "display_data"
    },
    {
     "name": "stdout",
     "output_type": "stream",
     "text": [
      "Epoch 11 :\n",
      "----------------------------------------------------------------------\n",
      "SOURCE    := Après l’avoir renvoyée à l’entrée de la chapelle :\n",
      "EXPECTED  := After sending the woman to wait at the chapel door:\n",
      "PREDICTED := After the of the chapel , ' on the chapel .\n",
      "----------------------------------------------------------------------\n",
      "Validation CER  : 0.4901960790157318\n",
      "Validation WER  : 0.699999988079071\n",
      "Validation BLEU : 0.0\n",
      "Training Loss   :  2.08593\n",
      "----------------------------------------------------------------------\n"
     ]
    },
    {
     "data": {
      "application/vnd.jupyter.widget-view+json": {
       "model_id": "",
       "version_major": 2,
       "version_minor": 0
      },
      "text/plain": [
       "Validation: 0it [00:00, ?it/s]"
      ]
     },
     "metadata": {},
     "output_type": "display_data"
    },
    {
     "name": "stdout",
     "output_type": "stream",
     "text": [
      "Epoch 12 :\n",
      "----------------------------------------------------------------------\n",
      "SOURCE    := Après l’avoir renvoyée à l’entrée de la chapelle :\n",
      "EXPECTED  := After sending the woman to wait at the chapel door:\n",
      "PREDICTED := After the of the chapel , and\n",
      "----------------------------------------------------------------------\n",
      "Validation CER  : 0.5490196347236633\n",
      "Validation WER  : 0.699999988079071\n",
      "Validation BLEU : 0.0\n",
      "Training Loss   :  1.98683\n",
      "----------------------------------------------------------------------\n"
     ]
    },
    {
     "data": {
      "application/vnd.jupyter.widget-view+json": {
       "model_id": "",
       "version_major": 2,
       "version_minor": 0
      },
      "text/plain": [
       "Validation: 0it [00:00, ?it/s]"
      ]
     },
     "metadata": {},
     "output_type": "display_data"
    },
    {
     "name": "stdout",
     "output_type": "stream",
     "text": [
      "Epoch 13 :\n",
      "----------------------------------------------------------------------\n",
      "SOURCE    := Après l’avoir renvoyée à l’entrée de la chapelle :\n",
      "EXPECTED  := After sending the woman to wait at the chapel door:\n",
      "PREDICTED := After the of the chapel , and he .\n",
      "----------------------------------------------------------------------\n",
      "Validation CER  : 0.6274510025978088\n",
      "Validation WER  : 0.800000011920929\n",
      "Validation BLEU : 0.0\n",
      "Training Loss   :  1.90529\n",
      "----------------------------------------------------------------------\n"
     ]
    },
    {
     "data": {
      "application/vnd.jupyter.widget-view+json": {
       "model_id": "",
       "version_major": 2,
       "version_minor": 0
      },
      "text/plain": [
       "Validation: 0it [00:00, ?it/s]"
      ]
     },
     "metadata": {},
     "output_type": "display_data"
    },
    {
     "name": "stdout",
     "output_type": "stream",
     "text": [
      "Epoch 14 :\n",
      "----------------------------------------------------------------------\n",
      "SOURCE    := Après l’avoir renvoyée à l’entrée de la chapelle :\n",
      "EXPECTED  := After sending the woman to wait at the chapel door:\n",
      "PREDICTED := After the ' on the voit to the chapel :\n",
      "----------------------------------------------------------------------\n",
      "Validation CER  : 0.4313725531101227\n",
      "Validation WER  : 0.699999988079071\n",
      "Validation BLEU : 0.0\n",
      "Training Loss   :  1.84326\n",
      "----------------------------------------------------------------------\n"
     ]
    },
    {
     "data": {
      "application/vnd.jupyter.widget-view+json": {
       "model_id": "",
       "version_major": 2,
       "version_minor": 0
      },
      "text/plain": [
       "Validation: 0it [00:00, ?it/s]"
      ]
     },
     "metadata": {},
     "output_type": "display_data"
    },
    {
     "name": "stdout",
     "output_type": "stream",
     "text": [
      "Epoch 15 :\n",
      "----------------------------------------------------------------------\n",
      "SOURCE    := Après l’avoir renvoyée à l’entrée de la chapelle :\n",
      "EXPECTED  := After sending the woman to wait at the chapel door:\n",
      "PREDICTED := After the ' on the voit to the chapel :\n",
      "----------------------------------------------------------------------\n",
      "Validation CER  : 0.4313725531101227\n",
      "Validation WER  : 0.699999988079071\n",
      "Validation BLEU : 0.0\n",
      "Training Loss   :  1.80587\n",
      "----------------------------------------------------------------------\n"
     ]
    },
    {
     "data": {
      "application/vnd.jupyter.widget-view+json": {
       "model_id": "",
       "version_major": 2,
       "version_minor": 0
      },
      "text/plain": [
       "Validation: 0it [00:00, ?it/s]"
      ]
     },
     "metadata": {},
     "output_type": "display_data"
    },
    {
     "name": "stdout",
     "output_type": "stream",
     "text": [
      "Epoch 16 :\n",
      "----------------------------------------------------------------------\n",
      "SOURCE    := Après l’avoir renvoyée à l’entrée de la chapelle :\n",
      "EXPECTED  := After sending the woman to wait at the chapel door:\n",
      "PREDICTED := After the ' on the voit to the chapel :\n",
      "----------------------------------------------------------------------\n",
      "Validation CER  : 0.4313725531101227\n",
      "Validation WER  : 0.699999988079071\n",
      "Validation BLEU : 0.0\n",
      "Training Loss   :  1.78927\n",
      "----------------------------------------------------------------------\n"
     ]
    },
    {
     "data": {
      "application/vnd.jupyter.widget-view+json": {
       "model_id": "",
       "version_major": 2,
       "version_minor": 0
      },
      "text/plain": [
       "Validation: 0it [00:00, ?it/s]"
      ]
     },
     "metadata": {},
     "output_type": "display_data"
    },
    {
     "name": "stdout",
     "output_type": "stream",
     "text": [
      "Epoch 17 :\n",
      "----------------------------------------------------------------------\n",
      "SOURCE    := Après l’avoir renvoyée à l’entrée de la chapelle :\n",
      "EXPECTED  := After sending the woman to wait at the chapel door:\n",
      "PREDICTED := After the ' t mind to the chapel :\n",
      "----------------------------------------------------------------------\n",
      "Validation CER  : 0.47058823704719543\n",
      "Validation WER  : 0.6000000238418579\n",
      "Validation BLEU : 0.0\n",
      "Training Loss   :  1.77599\n",
      "----------------------------------------------------------------------\n"
     ]
    },
    {
     "data": {
      "application/vnd.jupyter.widget-view+json": {
       "model_id": "",
       "version_major": 2,
       "version_minor": 0
      },
      "text/plain": [
       "Validation: 0it [00:00, ?it/s]"
      ]
     },
     "metadata": {},
     "output_type": "display_data"
    },
    {
     "name": "stdout",
     "output_type": "stream",
     "text": [
      "Epoch 18 :\n",
      "----------------------------------------------------------------------\n",
      "SOURCE    := Après l’avoir renvoyée à l’entrée de la chapelle :\n",
      "EXPECTED  := After sending the woman to wait at the chapel door:\n",
      "PREDICTED := After the ' t mind to the chapel :\n",
      "----------------------------------------------------------------------\n",
      "Validation CER  : 0.47058823704719543\n",
      "Validation WER  : 0.6000000238418579\n",
      "Validation BLEU : 0.0\n",
      "Training Loss   :  1.76437\n",
      "----------------------------------------------------------------------\n"
     ]
    },
    {
     "data": {
      "application/vnd.jupyter.widget-view+json": {
       "model_id": "",
       "version_major": 2,
       "version_minor": 0
      },
      "text/plain": [
       "Validation: 0it [00:00, ?it/s]"
      ]
     },
     "metadata": {},
     "output_type": "display_data"
    },
    {
     "name": "stdout",
     "output_type": "stream",
     "text": [
      "Epoch 19 :\n",
      "----------------------------------------------------------------------\n",
      "SOURCE    := Après l’avoir renvoyée à l’entrée de la chapelle :\n",
      "EXPECTED  := After sending the woman to wait at the chapel door:\n",
      "PREDICTED := After the ' t mind to the chapel :\n",
      "----------------------------------------------------------------------\n",
      "Validation CER  : 0.47058823704719543\n",
      "Validation WER  : 0.6000000238418579\n",
      "Validation BLEU : 0.0\n",
      "Training Loss   :  1.75432\n",
      "----------------------------------------------------------------------\n"
     ]
    },
    {
     "data": {
      "application/vnd.jupyter.widget-view+json": {
       "model_id": "",
       "version_major": 2,
       "version_minor": 0
      },
      "text/plain": [
       "Validation: 0it [00:00, ?it/s]"
      ]
     },
     "metadata": {},
     "output_type": "display_data"
    },
    {
     "name": "stdout",
     "output_type": "stream",
     "text": [
      "Epoch 20 :\n",
      "----------------------------------------------------------------------\n",
      "SOURCE    := Après l’avoir renvoyée à l’entrée de la chapelle :\n",
      "EXPECTED  := After sending the woman to wait at the chapel door:\n",
      "PREDICTED := After the ' on the voit to the chapel :\n",
      "----------------------------------------------------------------------\n",
      "Validation CER  : 0.4313725531101227\n",
      "Validation WER  : 0.699999988079071\n",
      "Validation BLEU : 0.0\n",
      "Training Loss   :  1.74455\n",
      "----------------------------------------------------------------------\n"
     ]
    },
    {
     "data": {
      "application/vnd.jupyter.widget-view+json": {
       "model_id": "",
       "version_major": 2,
       "version_minor": 0
      },
      "text/plain": [
       "Validation: 0it [00:00, ?it/s]"
      ]
     },
     "metadata": {},
     "output_type": "display_data"
    },
    {
     "name": "stdout",
     "output_type": "stream",
     "text": [
      "Epoch 21 :\n",
      "----------------------------------------------------------------------\n",
      "SOURCE    := Après l’avoir renvoyée à l’entrée de la chapelle :\n",
      "EXPECTED  := After sending the woman to wait at the chapel door:\n",
      "PREDICTED := After the ' t mind to the chapel :\n",
      "----------------------------------------------------------------------\n",
      "Validation CER  : 0.47058823704719543\n",
      "Validation WER  : 0.6000000238418579\n",
      "Validation BLEU : 0.0\n",
      "Training Loss   :  1.737\n",
      "----------------------------------------------------------------------\n"
     ]
    }
   ],
   "source": [
    "data = OpusDataModule()\n",
    "data.setup()\n",
    "src, tgt = data.tokenizer_src, data.tokenizer_tgt\n",
    "\n",
    "model = BilangLightning(\n",
    "    learning_rate=1e-3,\n",
    "    tokenizer_src=src,\n",
    "    tokenizer_tgt=tgt\n",
    ")\n",
    "\n",
    "trainer = pl.Trainer(\n",
    "    precision=\"16-mixed\",\n",
    "    max_epochs=config_[\"num_epochs\"],\n",
    "    accelerator=\"gpu\"\n",
    ")\n",
    "\n",
    "trainer.fit(model,data)"
   ]
  },
  {
   "cell_type": "code",
   "execution_count": 3,
   "id": "eb1058ad-b097-428f-ab7d-a27704e77f9e",
   "metadata": {},
   "outputs": [
    {
     "ename": "NameError",
     "evalue": "name 'h' is not defined",
     "output_type": "error",
     "traceback": [
      "\u001b[0;31m---------------------------------------------------------------------------\u001b[0m",
      "\u001b[0;31mNameError\u001b[0m                                 Traceback (most recent call last)",
      "Input \u001b[0;32mIn [3]\u001b[0m, in \u001b[0;36m<cell line: 1>\u001b[0;34m()\u001b[0m\n\u001b[0;32m----> 1\u001b[0m \u001b[43mh\u001b[49m\n",
      "\u001b[0;31mNameError\u001b[0m: name 'h' is not defined"
     ]
    }
   ],
   "source": [
    "\n"
   ]
  },
  {
   "cell_type": "code",
   "execution_count": null,
   "id": "19725599-270c-4ec9-bb95-53ce1e056aad",
   "metadata": {},
   "outputs": [],
   "source": []
  }
 ],
 "metadata": {
  "kernelspec": {
   "display_name": "Python 3 (ipykernel)",
   "language": "python",
   "name": "python3"
  },
  "language_info": {
   "codemirror_mode": {
    "name": "ipython",
    "version": 3
   },
   "file_extension": ".py",
   "mimetype": "text/x-python",
   "name": "python",
   "nbconvert_exporter": "python",
   "pygments_lexer": "ipython3",
   "version": "3.9.13"
  }
 },
 "nbformat": 4,
 "nbformat_minor": 5
}
